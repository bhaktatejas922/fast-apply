{
 "cells": [
  {
   "cell_type": "code",
   "execution_count": null,
   "metadata": {},
   "outputs": [],
   "source": [
    "%capture\n",
    "!pip install -U transformers\n",
    "!pip install -U bitsandbytes\n",
    "!pip install tf-keras\n",
    "!pip install unsloth"
   ]
  },
  {
   "cell_type": "code",
   "execution_count": null,
   "metadata": {},
   "outputs": [],
   "source": [
    "from unsloth import FastLanguageModel\n",
    "import torch\n",
    "max_seq_length = 2048 # Choose any! We auto support RoPE Scaling internally!\n",
    "dtype = None # None for auto detection. Float16 for Tesla T4, V100, Bfloat16 for Ampere+\n",
    "load_in_4bit = True \n",
    "\n",
    "model_name = \"unsloth/Qwen2.5-Coder-1.5B-Instruct-bnb-4bit\"\n",
    "\n",
    "model, tokenizer = FastLanguageModel.from_pretrained(\n",
    "    model_name = model_name,\n",
    "    max_seq_length = max_seq_length,\n",
    "    dtype = dtype,\n",
    "    load_in_4bit = load_in_4bit,\n",
    ")"
   ]
  },
  {
   "cell_type": "code",
   "execution_count": null,
   "metadata": {},
   "outputs": [],
   "source": [
    "my_template = \"{%- if messages[0]['role'] == 'system' %} \\n {{- '<|im_start|>system\\n' + messages[0]['content'] + '<|im_end|>\\n' }} \\n {%- else %} \\n {{- '<|im_start|>system\\nYou are a coding assistant that helps merge code updates, ensuring every modification is fully integrated.<|im_end|>\\n' }} \\n {%- endif %} \\n {%- for message in messages %} \\n    {%- if message.role in ['user', 'assistant'] or (message.role == 'system' and not loop.first) %} \\n {{- '<|im_start|>' + message.role + '\\n' + message.content + '<|im_end|>\\n' }} \\n    {%- endif %} \\n {%- endfor %} \\n {%- if add_generation_prompt %} \\n    {{- '<|im_start|>assistant\\n' }} \\n {%- endif %}\"\n",
    "my_template"
   ]
  },
  {
   "cell_type": "code",
   "execution_count": null,
   "metadata": {},
   "outputs": [],
   "source": [
    "SYSTEM_PROMPT = \"\"\"You are an coding assistant that helps merge code updates, ensuring every modification is fully integrated.\"\"\"\n",
    "\n",
    "USER_PROMPT = \"\"\"Merge all changes from the <update> snippet into the <code> below.\n",
    "- Preserve the code's structure, order, comments, and indentation exactly.\n",
    "- Output only the updated code, enclosed within <updated-code> and </updated-code> tags.\n",
    "- Do not include any additional text, explanations, placeholders, ellipses, or code fences.\n",
    "\n",
    "<code>{original_code}</code>\n",
    "\n",
    "<update>{update_snippet}</update>\n",
    "\n",
    "Provide the complete updated code.\"\"\"\n",
    "\n",
    "\n",
    "messages = [\n",
    "    {\"role\": \"system\", \"content\": SYSTEM_PROMPT},\n",
    "    {\"role\": \"user\", \"content\": USER_PROMPT}\n",
    "]\n",
    "text = tokenizer.apply_chat_template(\n",
    "    messages,\n",
    "    tokenize=False,\n",
    "    add_generation_prompt=True,\n",
    "    chat_template=my_template,\n",
    ")\n",
    "print(text)"
   ]
  },
  {
   "cell_type": "code",
   "execution_count": 11,
   "metadata": {},
   "outputs": [],
   "source": [
    "FastLanguageModel.for_inference(model)\n",
    "model_inputs = tokenizer([text], return_tensors=\"pt\").to(model.device)\n",
    "\n",
    "generated_ids = model.generate(\n",
    "    **model_inputs,\n",
    "    max_new_tokens=512\n",
    ")\n",
    "generated_ids = [\n",
    "    output_ids[len(input_ids):] for input_ids, output_ids in zip(model_inputs.input_ids, generated_ids)\n",
    "]\n",
    "\n",
    "response = tokenizer.batch_decode(generated_ids, skip_special_tokens=True)[0]"
   ]
  }
 ],
 "metadata": {
  "kernelspec": {
   "display_name": "Python 3",
   "language": "python",
   "name": "python3"
  },
  "language_info": {
   "codemirror_mode": {
    "name": "ipython",
    "version": 3
   },
   "file_extension": ".py",
   "mimetype": "text/x-python",
   "name": "python",
   "nbconvert_exporter": "python",
   "pygments_lexer": "ipython3",
   "version": "3.10.12"
  }
 },
 "nbformat": 4,
 "nbformat_minor": 2
}
