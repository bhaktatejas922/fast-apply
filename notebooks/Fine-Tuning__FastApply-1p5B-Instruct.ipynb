{
 "cells": [
  {
   "cell_type": "code",
   "execution_count": 1,
   "metadata": {
    "id": "2eSvM9zX_2d3",
    "scrolled": true
   },
   "outputs": [],
   "source": [
    "%%capture\n",
    "!pip install unsloth\n",
    "!pip install --upgrade --no-cache-dir \"unsloth[colab-new] @ git+https://github.com/unslothai/unsloth.git\"\n",
    "!pip install huggingface_hub==0.25.0"
   ]
  },
  {
   "cell_type": "code",
   "execution_count": 1,
   "metadata": {
    "colab": {
     "base_uri": "https://localhost:8080/",
     "height": 533
    },
    "id": "QmUBVEnvCDJv",
    "outputId": "5aa09f25-43f8-40eb-9d7e-4b0fae29b71a"
   },
   "outputs": [
    {
     "name": "stdout",
     "output_type": "stream",
     "text": [
      "🦥 Unsloth: Will patch your computer to enable 2x faster free finetuning.\n",
      "==((====))==  Unsloth 2024.10.2: Fast Qwen2 patching. Transformers = 4.44.2.\n",
      "   \\\\   /|    GPU: NVIDIA A100 80GB PCIe. Max memory: 79.138 GB. Platform = Linux.\n",
      "O^O/ \\_/ \\    Pytorch: 2.4.1+cu121. CUDA = 8.0. CUDA Toolkit = 12.1.\n",
      "\\        /    Bfloat16 = TRUE. FA [Xformers = 0.0.28.post1. FA2 = False]\n",
      " \"-____-\"     Free Apache license: http://github.com/unslothai/unsloth\n"
     ]
    },
    {
     "name": "stderr",
     "output_type": "stream",
     "text": [
      "Unsloth: We fixed a gradient accumulation bug, but it seems like you don't have the latest transformers version!\n",
      "Please update transformers via:\n",
      "`pip uninstall transformers -y && pip install --upgrade --no-cache-dir \"git+https://github.com/huggingface/transformers.git\"`\n"
     ]
    }
   ],
   "source": [
    "from unsloth import FastLanguageModel\n",
    "import torch\n",
    "max_seq_length = 8192 # Choose any! We auto support RoPE Scaling internally!\n",
    "dtype = None # None for auto detection. Float16 for Tesla T4, V100, Bfloat16 for Ampere+\n",
    "load_in_4bit = True # Use 4bit quantization to reduce memory usage. Can be False.\n",
    "\n",
    "model, tokenizer = FastLanguageModel.from_pretrained(\n",
    "    model_name= \"unsloth/Qwen2.5-Coder-1.5B-Instruct-bnb-4bit\",\n",
    "    max_seq_length = max_seq_length,\n",
    "    dtype = dtype,\n",
    "    load_in_4bit = load_in_4bit,\n",
    ")"
   ]
  },
  {
   "cell_type": "markdown",
   "metadata": {
    "id": "SXd9bTZd1aaL"
   },
   "source": [
    "We now add LoRA adapters so we only need to update 1 to 10% of all parameters!"
   ]
  },
  {
   "cell_type": "code",
   "execution_count": 2,
   "metadata": {
    "id": "6bZsfBuZDeCL"
   },
   "outputs": [
    {
     "name": "stderr",
     "output_type": "stream",
     "text": [
      "Unsloth 2024.10.2 patched 28 layers with 0 QKV layers, 28 O layers and 28 MLP layers.\n"
     ]
    }
   ],
   "source": [
    "model = FastLanguageModel.get_peft_model(\n",
    "    model,\n",
    "    r = 32, # Choose any number > 0 ! Suggested 8, 16, 32, 64, 128\n",
    "    target_modules = [\"q_proj\", \"k_proj\", \"v_proj\", \"o_proj\",\n",
    "                      \"gate_proj\", \"up_proj\", \"down_proj\", \n",
    "                      # \"embed_tokens\", \"lm_head\",\n",
    "                     ],\n",
    "    lora_alpha = 16,\n",
    "    lora_dropout = 0, # Supports any, but = 0 is optimized\n",
    "    bias = \"none\",    # Supports any, but = \"none\" is optimized\n",
    "    use_gradient_checkpointing = \"unsloth\", # True or \"unsloth\" for very long context\n",
    "    random_state = 3407,\n",
    "    use_rslora = True,  # We support rank stabilized LoRA\n",
    "    loftq_config = None, # And LoftQ\n",
    ")"
   ]
  },
  {
   "cell_type": "markdown",
   "metadata": {
    "id": "vITh0KVJ10qX"
   },
   "source": [
    "<a name=\"Data\"></a>\n",
    "### Data Prep\n",
    "We now use the Alpaca dataset from [yahma](https://huggingface.co/datasets/yahma/alpaca-cleaned), which is a filtered version of 52K of the original [Alpaca dataset](https://crfm.stanford.edu/2023/03/13/alpaca.html). You can replace this code section with your own data prep.\n",
    "\n",
    "**[NOTE]** To train only on completions (ignoring the user's input) read TRL's docs [here](https://huggingface.co/docs/trl/sft_trainer#train-on-completions-only).\n",
    "\n",
    "**[NOTE]** Remember to add the **EOS_TOKEN** to the tokenized output!! Otherwise you'll get infinite generations!\n",
    "\n",
    "If you want to use the `llama-3` template for ShareGPT datasets, try our conversational [notebook](https://colab.research.google.com/drive/1XamvWYinY6FOSX9GLvnqSjjsNflxdhNc?usp=sharing).\n",
    "\n",
    "For text completions like novel writing, try this [notebook](https://colab.research.google.com/drive/1ef-tab5bhkvWmBOObepl1WgJvfvSzn5Q?usp=sharing)."
   ]
  },
  {
   "cell_type": "code",
   "execution_count": 3,
   "metadata": {
    "id": "y2q6-k924U3H"
   },
   "outputs": [],
   "source": [
    "EOS_TOKEN = tokenizer.eos_token # Must add EOS_TOKEN\n",
    "\n",
    "def print_dataset_info(dataset):\n",
    "    \"\"\"\n",
    "    Print information about the dataset.\n",
    "\n",
    "    Args:\n",
    "        dataset: The dataset to print information about\n",
    "    \"\"\"\n",
    "    print(\"Dataset loaded successfully.\")\n",
    "    print(f\"Dataset info: {dataset}\")\n",
    "    dataset = dataset.shuffle(seed=42)\n",
    "    print(\"Shuffled!!!\")"
   ]
  },
  {
   "cell_type": "code",
   "execution_count": 4,
   "metadata": {
    "id": "jX20Miw_2RH3"
   },
   "outputs": [],
   "source": [
    "def load_fast_apply_coding_dataset():\n",
    "    \"\"\"\n",
    "    Load the fast-apply-coding dataset from Hugging Face.\n",
    "\n",
    "    Returns:\n",
    "        dataset: The loaded dataset with only 'original_code', 'update_snippet', and 'final_code' columns\n",
    "    \"\"\"\n",
    "    \n",
    "    from datasets import load_dataset\n",
    "    dataset = load_dataset(\"quocdat25/fast-apply-coding\")\n",
    "    # Select only the required columns\n",
    "    dataset = dataset.map(lambda example: {\n",
    "        'original_code': example['original_code'],\n",
    "        'update_snippet': example['update_snippet'],\n",
    "        'final_code': example['final_code']\n",
    "    })\n",
    "    return dataset\n",
    "\n",
    "def formatting_prompts_func(examples):\n",
    "    original_codes = examples[\"original_code\"]\n",
    "    update_snippets = examples[\"update_snippet\"]\n",
    "    final_codes = examples[\"final_code\"]\n",
    "    texts = []\n",
    "    prompt_template = \"\"\"<|im_start|>system\n",
    "You are an coding assistant that helps merge code updates, ensuring every modification is fully integrated.<|im_end|>\n",
    "<|im_start|>user\n",
    "Merge all changes from the <update> snippet into the <code> below.\n",
    "- Preserve the code's structure, order, comments, and indentation exactly.\n",
    "- Output only the updated code, enclosed within <updated-code> and </updated-code> tags.\n",
    "- Do not include any additional text, explanations, placeholders, ellipses, or code fences.\n",
    "\n",
    "<code>{original_code}</code>\n",
    "\n",
    "<update>{update_snippet}</update>\n",
    "\n",
    "Provide the complete updated code.<|im_end|>\n",
    "<|im_start|>assistant\n",
    "<updated-code>{final_code}</updated-code>\n",
    "\"\"\"\n",
    "\n",
    "    for original_code, update_snippet, final_code in zip(original_codes, update_snippets, final_codes):\n",
    "        text = prompt_template.format(\n",
    "            original_code=original_code,\n",
    "            update_snippet=update_snippet,\n",
    "            final_code=final_code\n",
    "        ).strip() + EOS_TOKEN\n",
    "        texts.append(text)\n",
    "\n",
    "    return {\"text\": texts}"
   ]
  },
  {
   "cell_type": "code",
   "execution_count": 5,
   "metadata": {
    "id": "yXy6n9fv4Odb"
   },
   "outputs": [
    {
     "name": "stdout",
     "output_type": "stream",
     "text": [
      "Dataset loaded successfully.\n",
      "Dataset info: DatasetDict({\n",
      "    train: Dataset({\n",
      "        features: ['text'],\n",
      "        num_rows: 5688\n",
      "    })\n",
      "    test: Dataset({\n",
      "        features: ['text'],\n",
      "        num_rows: 200\n",
      "    })\n",
      "})\n",
      "Shuffled!!!\n",
      "\n",
      "Formatted Dataset Sample:\n",
      "Dataset({\n",
      "    features: ['text'],\n",
      "    num_rows: 1\n",
      "})\n"
     ]
    }
   ],
   "source": [
    "dataset = load_fast_apply_coding_dataset()\n",
    "\n",
    "filtered_dataset = dataset\n",
    "if False: # If want to remove lengthy example , default = False\n",
    "    TOKEN_LIMIT = 2500\n",
    "    def filter_by_token_count(example):\n",
    "        return example['Token Count'] <= TOKEN_LIMIT\n",
    "    \n",
    "    filtered_dataset = dataset.filter(filter_by_token_count)\n",
    "\n",
    "formatted_dataset = filtered_dataset.map(formatting_prompts_func, batched=True, remove_columns=filtered_dataset[\"train\"].column_names)\n",
    "\n",
    "print_dataset_info(formatted_dataset)\n",
    "\n",
    "print(\"\\nFormatted Dataset Sample:\")\n",
    "print(formatted_dataset[\"train\"].select(range(1)))\n"
   ]
  },
  {
   "cell_type": "code",
   "execution_count": 6,
   "metadata": {
    "scrolled": true
   },
   "outputs": [
    {
     "name": "stdout",
     "output_type": "stream",
     "text": [
      "<|im_start|>system\n",
      "You are an coding assistant that helps merge code updates, ensuring every modification is fully integrated.<|im_end|>\n",
      "<|im_start|>user\n",
      "Merge all changes from the <update> snippet into the <code> below.\n",
      "- Preserve the code's structure, order, comments, and indentation exactly.\n",
      "- Output only the updated code, enclosed within <updated-code> and </updated-code> tags.\n",
      "- Do not include any additional text, explanations, placeholders, ellipses, or code fences.\n",
      "\n",
      "<code>import { buttonVariants } from '@/components/ui/Button';\n",
      "import Link from 'next/link';\n",
      "import { cn } from '@/lib/utils/helpers';\n",
      "import config from '@/lib/config/marketing';\n",
      "\n",
      "export default function CTA() {\n",
      "  const {\n",
      "    copy: { cta }\n",
      "  } = config;\n",
      "\n",
      "  return (\n",
      "    <div className=\"\">\n",
      "      <div className=\"px-6 py-24 sm:px-6 sm:py-32 lg:px-8\">\n",
      "        <div className=\"mx-auto max-w-2xl text-center\">\n",
      "          <h2 className=\"text-3xl font-bold tracking-tight  sm:text-4xl\">\n",
      "            {cta.heading}\n",
      "            <br />\n",
      "            {cta.heading_line2}\n",
      "          </h2>\n",
      "          <p className=\"mx-auto mt-6 max-w-xl text-lg leading-8 text-slate-500\">{cta.subheading}</p>\n",
      "          <div className=\"mt-10 space-x-4\">\n",
      "            <Link href=\"/pricing\" className={cn(buttonVariants({ size: 'lg' }))}>\n",
      "              {cta.link1_text}\n",
      "            </Link>\n",
      "            <Link\n",
      "              href=\"/faq\"\n",
      "              target=\"_blank\"\n",
      "              rel=\"noreferrer\"\n",
      "              className={cn(buttonVariants({ variant: 'ghost', size: 'lg' }))}\n",
      "            >\n",
      "              {cta.link2_text}\n",
      "              <span aria-hidden=\"true\">→</span>\n",
      "            </Link>\n",
      "          </div>\n",
      "        </div>\n",
      "      </div>\n",
      "    </div>\n",
      "  );\n",
      "}\n",
      "</code>\n",
      "\n",
      "<update>import { buttonVariants } from '@/components/ui/Button';\n",
      "import Link from 'next/link';\n",
      "import { cn } from '@/lib/utils/helpers';\n",
      "import config from '@/lib/config/marketing';\n",
      "import Image from 'next/image';\n",
      "\n",
      "export default function CTA() {\n",
      "  const {\n",
      "    copy: { cta },\n",
      "    images: { ctaImage }\n",
      "  } = config;\n",
      "\n",
      "  return (\n",
      "    <div className=\"relative\">\n",
      "      <div className=\"px-6 py-24 sm:px-6 sm:py-32 lg:px-8\">\n",
      "        <div className=\"mx-auto max-w-2xl text-center\">\n",
      "          {/* ... existing code ... */}\n",
      "          <div className=\"mt-10 space-x-4\">\n",
      "            <Link href=\"/pricing\" className={cn(buttonVariants({ size: 'lg' }))}>\n",
      "              {cta.link1_text}\n",
      "            </Link>\n",
      "            <Link\n",
      "              href=\"/faq\"\n",
      "              target=\"_blank\"\n",
      "              rel=\"noreferrer\"\n",
      "              className={cn(buttonVariants({ variant: 'ghost', size: 'lg' }))}\n",
      "            >\n",
      "              {cta.link2_text}\n",
      "              <span aria-hidden=\"true\">→</span>\n",
      "            </Link>\n",
      "          </div>\n",
      "        </div>\n",
      "      </div>\n",
      "      <Image\n",
      "        src={ctaImage}\n",
      "        alt=\"CTA background\"\n",
      "        layout=\"fill\"\n",
      "        objectFit=\"cover\"\n",
      "        className=\"absolute inset-0 z-[-1] opacity-20\"\n",
      "      />\n",
      "    </div>\n",
      "  );\n",
      "}</update>\n",
      "\n",
      "Provide the complete updated code.<|im_end|>\n",
      "<|im_start|>assistant\n",
      "<updated-code>import { buttonVariants } from '@/components/ui/Button';\n",
      "import Link from 'next/link';\n",
      "import { cn } from '@/lib/utils/helpers';\n",
      "import config from '@/lib/config/marketing';\n",
      "import Image from 'next/image';\n",
      "\n",
      "export default function CTA() {\n",
      "  const {\n",
      "    copy: { cta },\n",
      "    images: { ctaImage }\n",
      "  } = config;\n",
      "\n",
      "  return (\n",
      "    <div className=\"relative\">\n",
      "      <div className=\"px-6 py-24 sm:px-6 sm:py-32 lg:px-8\">\n",
      "        <div className=\"mx-auto max-w-2xl text-center\">\n",
      "          <h2 className=\"text-3xl font-bold tracking-tight  sm:text-4xl\">\n",
      "            {cta.heading}\n",
      "            <br />\n",
      "            {cta.heading_line2}\n",
      "          </h2>\n",
      "          <p className=\"mx-auto mt-6 max-w-xl text-lg leading-8 text-slate-500\">{cta.subheading}</p>\n",
      "          <div className=\"mt-10 space-x-4\">\n",
      "            <Link href=\"/pricing\" className={cn(buttonVariants({ size: 'lg' }))}>\n",
      "              {cta.link1_text}\n",
      "            </Link>\n",
      "            <Link\n",
      "              href=\"/faq\"\n",
      "              target=\"_blank\"\n",
      "              rel=\"noreferrer\"\n",
      "              className={cn(buttonVariants({ variant: 'ghost', size: 'lg' }))}\n",
      "            >\n",
      "              {cta.link2_text}\n",
      "              <span aria-hidden=\"true\">→</span>\n",
      "            </Link>\n",
      "          </div>\n",
      "        </div>\n",
      "      </div>\n",
      "      <Image\n",
      "        src={ctaImage}\n",
      "        alt=\"CTA background\"\n",
      "        layout=\"fill\"\n",
      "        objectFit=\"cover\"\n",
      "        className=\"absolute inset-0 z-[-1] opacity-20\"\n",
      "      />\n",
      "    </div>\n",
      "  );\n",
      "}</updated-code><|im_end|>\n"
     ]
    }
   ],
   "source": [
    "print(formatted_dataset[\"train\"].select(range(1))[0]['text'])\n"
   ]
  },
  {
   "cell_type": "markdown",
   "metadata": {
    "id": "idAEIeSQ3xdS"
   },
   "source": [
    "<a name=\"Train\"></a>\n",
    "### Train the model\n",
    "Now let's use Huggingface TRL's `SFTTrainer`! More docs here: [TRL SFT docs](https://huggingface.co/docs/trl/sft_trainer). We do 60 steps to speed things up, but you can set `num_train_epochs=1` for a full run, and turn off `max_steps=None`. We also support TRL's `DPOTrainer`!"
   ]
  },
  {
   "cell_type": "code",
   "execution_count": 7,
   "metadata": {
    "colab": {
     "base_uri": "https://localhost:8080/",
     "height": 67,
     "referenced_widgets": [
      "9f7978124def41238b1109e6c43ebda3",
      "6084b9619d6b4f83a9fe13822679625d",
      "700cdf510bef421ba83132f69e7d5ec5",
      "4a15bfb107074d9aa7042241166c513f",
      "5447cf06edf443dd823ec7fe3bbab620",
      "d8ae7ad3cad04bc8973d07f018769848",
      "4915b7bf1714447fbdb3c53ac83a5844",
      "7e98702e6f17452ca6972a715d2bfa8a",
      "7b49f27087684cb595e8d8117b923de5",
      "87e5a2a5fa334de7b59b673e225328b4",
      "aea6dce311d9407da7165677f632d082"
     ]
    },
    "id": "95_Nn-89DhsL",
    "outputId": "f37071f4-c85e-48a8-e3a7-db8e2f88856b"
   },
   "outputs": [],
   "source": [
    "from trl import SFTTrainer\n",
    "from transformers import TrainingArguments\n",
    "from unsloth import is_bfloat16_supported\n",
    "\n",
    "trainer = SFTTrainer(\n",
    "    model = model,\n",
    "    tokenizer = tokenizer,\n",
    "    train_dataset = formatted_dataset[\"train\"],\n",
    "    dataset_text_field = \"text\",\n",
    "    max_seq_length = max_seq_length,\n",
    "    dataset_num_proc = 2,\n",
    "    packing = False, # Can make training 5x faster for short sequences.\n",
    "    args = TrainingArguments(\n",
    "        per_device_train_batch_size = 8,\n",
    "        gradient_accumulation_steps = 4, # higher = more stable \n",
    "        warmup_steps = 15,\n",
    "        num_train_epochs = 1, # Set this for 1 full training run.\n",
    "        learning_rate = 1e-4, \n",
    "        fp16 = not is_bfloat16_supported(),\n",
    "        bf16 = is_bfloat16_supported(),\n",
    "        logging_steps = 1,\n",
    "        optim = \"adamw_8bit\",\n",
    "        weight_decay = 0.01,\n",
    "        lr_scheduler_type = \"cosine\",\n",
    "        seed = 3407,\n",
    "        output_dir = \"outputs\",\n",
    "    ),\n",
    ")"
   ]
  },
  {
   "cell_type": "code",
   "execution_count": 8,
   "metadata": {
    "cellView": "form",
    "colab": {
     "base_uri": "https://localhost:8080/"
    },
    "id": "2ejIt2xSNKKp",
    "outputId": "7265d207-56a8-4bcf-a6fd-23cf85cbbc5b"
   },
   "outputs": [
    {
     "name": "stdout",
     "output_type": "stream",
     "text": [
      "GPU = NVIDIA A100 80GB PCIe. Max memory = 79.138 GB.\n",
      "1.643 GB of memory reserved.\n"
     ]
    }
   ],
   "source": [
    "#@title Show current memory stats\n",
    "gpu_stats = torch.cuda.get_device_properties(0)\n",
    "start_gpu_memory = round(torch.cuda.max_memory_reserved() / 1024 / 1024 / 1024, 3)\n",
    "max_memory = round(gpu_stats.total_memory / 1024 / 1024 / 1024, 3)\n",
    "print(f\"GPU = {gpu_stats.name}. Max memory = {max_memory} GB.\")\n",
    "print(f\"{start_gpu_memory} GB of memory reserved.\")"
   ]
  },
  {
   "cell_type": "code",
   "execution_count": null,
   "metadata": {
    "colab": {
     "base_uri": "https://localhost:8080/",
     "height": 442
    },
    "id": "yqxqAZ7KJ4oL",
    "outputId": "545a3195-d5bf-4051-9436-f785de548acd"
   },
   "outputs": [
    {
     "name": "stderr",
     "output_type": "stream",
     "text": [
      "==((====))==  Unsloth - 2x faster free finetuning | Num GPUs = 1\n",
      "   \\\\   /|    Num examples = 5,688 | Num Epochs = 1\n",
      "O^O/ \\_/ \\    Batch size per device = 8 | Gradient Accumulation steps = 4\n",
      "\\        /    Total batch size = 32 | Total steps = 177\n",
      " \"-____-\"     Number of trainable parameters = 36,929,536\n"
     ]
    },
    {
     "name": "stdout",
     "output_type": "stream",
     "text": [
      "**** Unsloth: Please use our fixed gradient_accumulation_steps by updating transformers and Unsloth!\n"
     ]
    },
    {
     "name": "stderr",
     "output_type": "stream",
     "text": [
      "\u001b[34m\u001b[1mwandb\u001b[0m: \u001b[33mWARNING\u001b[0m The `run_name` is currently set to the same value as `TrainingArguments.output_dir`. If this was not intended, please specify a different run name by setting the `TrainingArguments.run_name` parameter.\n",
      "\u001b[34m\u001b[1mwandb\u001b[0m: Using wandb-core as the SDK backend. Please refer to https://wandb.me/wandb-core for more information.\n",
      "\u001b[34m\u001b[1mwandb\u001b[0m: Currently logged in as: \u001b[33mquocdat-le-insacvl2\u001b[0m (\u001b[33mquocdat-le-insacvl-recall-ai\u001b[0m). Use \u001b[1m`wandb login --relogin`\u001b[0m to force relogin\n"
     ]
    },
    {
     "data": {
      "text/html": [
       "Tracking run with wandb version 0.18.5"
      ],
      "text/plain": [
       "<IPython.core.display.HTML object>"
      ]
     },
     "metadata": {},
     "output_type": "display_data"
    },
    {
     "data": {
      "text/html": [
       "Run data is saved locally in <code>/workspace/fast-apply-model/wandb/run-20241018_110758-3w19snt0</code>"
      ],
      "text/plain": [
       "<IPython.core.display.HTML object>"
      ]
     },
     "metadata": {},
     "output_type": "display_data"
    },
    {
     "data": {
      "text/html": [
       "Syncing run <strong><a href='https://wandb.ai/quocdat-le-insacvl-recall-ai/huggingface/runs/3w19snt0' target=\"_blank\">outputs</a></strong> to <a href='https://wandb.ai/quocdat-le-insacvl-recall-ai/huggingface' target=\"_blank\">Weights & Biases</a> (<a href='https://wandb.me/run' target=\"_blank\">docs</a>)<br/>"
      ],
      "text/plain": [
       "<IPython.core.display.HTML object>"
      ]
     },
     "metadata": {},
     "output_type": "display_data"
    },
    {
     "data": {
      "text/html": [
       " View project at <a href='https://wandb.ai/quocdat-le-insacvl-recall-ai/huggingface' target=\"_blank\">https://wandb.ai/quocdat-le-insacvl-recall-ai/huggingface</a>"
      ],
      "text/plain": [
       "<IPython.core.display.HTML object>"
      ]
     },
     "metadata": {},
     "output_type": "display_data"
    },
    {
     "data": {
      "text/html": [
       " View run at <a href='https://wandb.ai/quocdat-le-insacvl-recall-ai/huggingface/runs/3w19snt0' target=\"_blank\">https://wandb.ai/quocdat-le-insacvl-recall-ai/huggingface/runs/3w19snt0</a>"
      ],
      "text/plain": [
       "<IPython.core.display.HTML object>"
      ]
     },
     "metadata": {},
     "output_type": "display_data"
    },
    {
     "data": {
      "text/html": [
       "\n",
       "    <div>\n",
       "      \n",
       "      <progress value='13' max='177' style='width:300px; height:20px; vertical-align: middle;'></progress>\n",
       "      [ 13/177 02:56 < 43:49, 0.06 it/s, Epoch 0.07/1]\n",
       "    </div>\n",
       "    <table border=\"1\" class=\"dataframe\">\n",
       "  <thead>\n",
       " <tr style=\"text-align: left;\">\n",
       "      <th>Step</th>\n",
       "      <th>Training Loss</th>\n",
       "    </tr>\n",
       "  </thead>\n",
       "  <tbody>\n",
       "    <tr>\n",
       "      <td>1</td>\n",
       "      <td>0.559600</td>\n",
       "    </tr>\n",
       "    <tr>\n",
       "      <td>2</td>\n",
       "      <td>0.571500</td>\n",
       "    </tr>\n",
       "    <tr>\n",
       "      <td>3</td>\n",
       "      <td>0.608000</td>\n",
       "    </tr>\n",
       "    <tr>\n",
       "      <td>4</td>\n",
       "      <td>0.614700</td>\n",
       "    </tr>\n",
       "    <tr>\n",
       "      <td>5</td>\n",
       "      <td>0.610400</td>\n",
       "    </tr>\n",
       "    <tr>\n",
       "      <td>6</td>\n",
       "      <td>0.578700</td>\n",
       "    </tr>\n",
       "    <tr>\n",
       "      <td>7</td>\n",
       "      <td>0.570900</td>\n",
       "    </tr>\n",
       "    <tr>\n",
       "      <td>8</td>\n",
       "      <td>0.676800</td>\n",
       "    </tr>\n",
       "    <tr>\n",
       "      <td>9</td>\n",
       "      <td>0.551800</td>\n",
       "    </tr>\n",
       "    <tr>\n",
       "      <td>10</td>\n",
       "      <td>0.527100</td>\n",
       "    </tr>\n",
       "    <tr>\n",
       "      <td>11</td>\n",
       "      <td>0.495700</td>\n",
       "    </tr>\n",
       "  </tbody>\n",
       "</table><p>"
      ],
      "text/plain": [
       "<IPython.core.display.HTML object>"
      ]
     },
     "metadata": {},
     "output_type": "display_data"
    }
   ],
   "source": [
    "# from unsloth import unsloth_train\n",
    "# trainer_stats = unsloth_train(trainer)\n",
    "trainer_stats = trainer.train()"
   ]
  },
  {
   "cell_type": "code",
   "execution_count": null,
   "metadata": {
    "cellView": "form",
    "colab": {
     "base_uri": "https://localhost:8080/"
    },
    "id": "pCqnaKmlO1U9",
    "outputId": "3005b362-2b86-468a-8f28-8effd9208566"
   },
   "outputs": [],
   "source": [
    "#@title Show final memory and time stats\n",
    "used_memory = round(torch.cuda.max_memory_reserved() / 1024 / 1024 / 1024, 3)\n",
    "used_memory_for_lora = round(used_memory - start_gpu_memory, 3)\n",
    "used_percentage = round(used_memory         /max_memory*100, 3)\n",
    "lora_percentage = round(used_memory_for_lora/max_memory*100, 3)\n",
    "print(f\"{trainer_stats.metrics['train_runtime']} seconds used for training.\")\n",
    "print(f\"{round(trainer_stats.metrics['train_runtime']/60, 2)} minutes used for training.\")\n",
    "print(f\"Peak reserved memory = {used_memory} GB.\")\n",
    "print(f\"Peak reserved memory for training = {used_memory_for_lora} GB.\")\n",
    "print(f\"Peak reserved memory % of max memory = {used_percentage} %.\")\n",
    "print(f\"Peak reserved memory for training % of max memory = {lora_percentage} %.\")"
   ]
  },
  {
   "cell_type": "code",
   "execution_count": null,
   "metadata": {
    "colab": {
     "base_uri": "https://localhost:8080/"
    },
    "id": "upcOlWe7A1vc",
    "outputId": "0995f3eb-3eb9-423f-ede2-3b7f2f9f10c9"
   },
   "outputs": [],
   "source": [
    "version='FastApply-1.5B-Instruct'\n",
    "hf_token=\"hf_...\""
   ]
  },
  {
   "cell_type": "code",
   "execution_count": null,
   "metadata": {},
   "outputs": [],
   "source": [
    "# model.save_pretrained(f\"lora_model/v{version}\")\n",
    "# tokenizer.save_pretrained(f\"lora_model/v{version}\")\n",
    "\n",
    "# model.push_to_hub(f\"quocdat25/fast-apply_lora-4b-v0.{version}\", token=hf_token)\n",
    "# tokenizer.push_to_hub(f\"quocdat25/fast-apply_lora-4b-v0.{version}\", token=hf_token)\n",
    "\n"
   ]
  },
  {
   "cell_type": "code",
   "execution_count": null,
   "metadata": {},
   "outputs": [],
   "source": [
    "# model.push_to_hub_merged(f\"quocdat25/fast-apply-16bit-v0.{version}\", tokenizer, save_method=\"merged_16bit\", token=hf_token)"
   ]
  },
  {
   "cell_type": "code",
   "execution_count": null,
   "metadata": {},
   "outputs": [],
   "source": [
    "# Save to 8bit Q8_0\n",
    "# if True: model.save_pretrained_gguf(\"model\", tokenizer,)\n",
    "# Remember to go to https://huggingface.co/settings/tokens for a token!\n",
    "# And change hf to your username!\n",
    "# if True: model.push_to_hub_gguf(f\"quocdat25/fast-apply_gguf-Q8_0-v0.{version}\", tokenizer, token = hf_token)\n",
    "\n",
    "# Save to 16bit GGUF\n",
    "# if True: model.save_pretrained_gguf(\"model\", tokenizer, quantization_method = \"f16\")\n",
    "# if True: model.push_to_hub_gguf(f\"quocdat25/fast-apply_gguf-16bit_0-v0.{version}\", tokenizer, quantization_method = \"f16\", token = hf_token)\n",
    "\n",
    "# Save to q4_k_m GGUF\n",
    "# if True: model.save_pretrained_gguf(\"model\", tokenizer, quantization_method = \"q4_k_m\")\n",
    "# if True: model.push_to_hub_gguf(\"hf/model\", tokenizer, quantization_method = \"q4_k_m\", token = \"\")\n",
    "\n",
    "# Save to multiple GGUF options - much faster if you want multiple!\n",
    "if False:\n",
    "    model.push_to_hub_gguf(\n",
    "        \"hf/model\", # Change hf to your username!\n",
    "        tokenizer,\n",
    "        quantization_method = [\"q4_k_m\", \"q8_0\", \"q5_k_m\",],\n",
    "        token = \"\", # Get a token at https://huggingface.co/settings/tokens\n",
    "    )"
   ]
  },
  {
   "cell_type": "code",
   "execution_count": null,
   "metadata": {},
   "outputs": [],
   "source": [
    "# model.push_to_hub_merged(f\"quocdat25/vLLM-fast-apply-4bit-v0.{version}\", tokenizer, save_method = \"merged_4bit_forced\", token = hf_token)"
   ]
  },
  {
   "cell_type": "code",
   "execution_count": null,
   "metadata": {},
   "outputs": [],
   "source": [
    "! bash -c \"runpodctl stop pod $RUNPOD_POD_ID\""
   ]
  },
  {
   "cell_type": "code",
   "execution_count": null,
   "metadata": {},
   "outputs": [],
   "source": []
  },
  {
   "cell_type": "code",
   "execution_count": null,
   "metadata": {},
   "outputs": [],
   "source": []
  },
  {
   "cell_type": "code",
   "execution_count": null,
   "metadata": {},
   "outputs": [],
   "source": []
  }
 ],
 "metadata": {
  "accelerator": "GPU",
  "colab": {
   "gpuType": "T4",
   "provenance": []
  },
  "kernelspec": {
   "display_name": "Python 3 (ipykernel)",
   "language": "python",
   "name": "python3"
  },
  "language_info": {
   "codemirror_mode": {
    "name": "ipython",
    "version": 3
   },
   "file_extension": ".py",
   "mimetype": "text/x-python",
   "name": "python",
   "nbconvert_exporter": "python",
   "pygments_lexer": "ipython3",
   "version": "3.10.12"
  },
  "widgets": {
   "application/vnd.jupyter.widget-state+json": {
    "4915b7bf1714447fbdb3c53ac83a5844": {
     "model_module": "@jupyter-widgets/controls",
     "model_module_version": "1.5.0",
     "model_name": "DescriptionStyleModel",
     "state": {
      "_model_module": "@jupyter-widgets/controls",
      "_model_module_version": "1.5.0",
      "_model_name": "DescriptionStyleModel",
      "_view_count": null,
      "_view_module": "@jupyter-widgets/base",
      "_view_module_version": "1.2.0",
      "_view_name": "StyleView",
      "description_width": ""
     }
    },
    "4a15bfb107074d9aa7042241166c513f": {
     "model_module": "@jupyter-widgets/controls",
     "model_module_version": "1.5.0",
     "model_name": "HTMLModel",
     "state": {
      "_dom_classes": [],
      "_model_module": "@jupyter-widgets/controls",
      "_model_module_version": "1.5.0",
      "_model_name": "HTMLModel",
      "_view_count": null,
      "_view_module": "@jupyter-widgets/controls",
      "_view_module_version": "1.5.0",
      "_view_name": "HTMLView",
      "description": "",
      "description_tooltip": null,
      "layout": "IPY_MODEL_87e5a2a5fa334de7b59b673e225328b4",
      "placeholder": "​",
      "style": "IPY_MODEL_aea6dce311d9407da7165677f632d082",
      "value": " 200/200 [00:03&lt;00:00, 58.98 examples/s]"
     }
    },
    "5447cf06edf443dd823ec7fe3bbab620": {
     "model_module": "@jupyter-widgets/base",
     "model_module_version": "1.2.0",
     "model_name": "LayoutModel",
     "state": {
      "_model_module": "@jupyter-widgets/base",
      "_model_module_version": "1.2.0",
      "_model_name": "LayoutModel",
      "_view_count": null,
      "_view_module": "@jupyter-widgets/base",
      "_view_module_version": "1.2.0",
      "_view_name": "LayoutView",
      "align_content": null,
      "align_items": null,
      "align_self": null,
      "border": null,
      "bottom": null,
      "display": null,
      "flex": null,
      "flex_flow": null,
      "grid_area": null,
      "grid_auto_columns": null,
      "grid_auto_flow": null,
      "grid_auto_rows": null,
      "grid_column": null,
      "grid_gap": null,
      "grid_row": null,
      "grid_template_areas": null,
      "grid_template_columns": null,
      "grid_template_rows": null,
      "height": null,
      "justify_content": null,
      "justify_items": null,
      "left": null,
      "margin": null,
      "max_height": null,
      "max_width": null,
      "min_height": null,
      "min_width": null,
      "object_fit": null,
      "object_position": null,
      "order": null,
      "overflow": null,
      "overflow_x": null,
      "overflow_y": null,
      "padding": null,
      "right": null,
      "top": null,
      "visibility": null,
      "width": null
     }
    },
    "6084b9619d6b4f83a9fe13822679625d": {
     "model_module": "@jupyter-widgets/controls",
     "model_module_version": "1.5.0",
     "model_name": "HTMLModel",
     "state": {
      "_dom_classes": [],
      "_model_module": "@jupyter-widgets/controls",
      "_model_module_version": "1.5.0",
      "_model_name": "HTMLModel",
      "_view_count": null,
      "_view_module": "@jupyter-widgets/controls",
      "_view_module_version": "1.5.0",
      "_view_name": "HTMLView",
      "description": "",
      "description_tooltip": null,
      "layout": "IPY_MODEL_d8ae7ad3cad04bc8973d07f018769848",
      "placeholder": "​",
      "style": "IPY_MODEL_4915b7bf1714447fbdb3c53ac83a5844",
      "value": "Map (num_proc=2): 100%"
     }
    },
    "700cdf510bef421ba83132f69e7d5ec5": {
     "model_module": "@jupyter-widgets/controls",
     "model_module_version": "1.5.0",
     "model_name": "FloatProgressModel",
     "state": {
      "_dom_classes": [],
      "_model_module": "@jupyter-widgets/controls",
      "_model_module_version": "1.5.0",
      "_model_name": "FloatProgressModel",
      "_view_count": null,
      "_view_module": "@jupyter-widgets/controls",
      "_view_module_version": "1.5.0",
      "_view_name": "ProgressView",
      "bar_style": "success",
      "description": "",
      "description_tooltip": null,
      "layout": "IPY_MODEL_7e98702e6f17452ca6972a715d2bfa8a",
      "max": 200,
      "min": 0,
      "orientation": "horizontal",
      "style": "IPY_MODEL_7b49f27087684cb595e8d8117b923de5",
      "value": 200
     }
    },
    "7b49f27087684cb595e8d8117b923de5": {
     "model_module": "@jupyter-widgets/controls",
     "model_module_version": "1.5.0",
     "model_name": "ProgressStyleModel",
     "state": {
      "_model_module": "@jupyter-widgets/controls",
      "_model_module_version": "1.5.0",
      "_model_name": "ProgressStyleModel",
      "_view_count": null,
      "_view_module": "@jupyter-widgets/base",
      "_view_module_version": "1.2.0",
      "_view_name": "StyleView",
      "bar_color": null,
      "description_width": ""
     }
    },
    "7e98702e6f17452ca6972a715d2bfa8a": {
     "model_module": "@jupyter-widgets/base",
     "model_module_version": "1.2.0",
     "model_name": "LayoutModel",
     "state": {
      "_model_module": "@jupyter-widgets/base",
      "_model_module_version": "1.2.0",
      "_model_name": "LayoutModel",
      "_view_count": null,
      "_view_module": "@jupyter-widgets/base",
      "_view_module_version": "1.2.0",
      "_view_name": "LayoutView",
      "align_content": null,
      "align_items": null,
      "align_self": null,
      "border": null,
      "bottom": null,
      "display": null,
      "flex": null,
      "flex_flow": null,
      "grid_area": null,
      "grid_auto_columns": null,
      "grid_auto_flow": null,
      "grid_auto_rows": null,
      "grid_column": null,
      "grid_gap": null,
      "grid_row": null,
      "grid_template_areas": null,
      "grid_template_columns": null,
      "grid_template_rows": null,
      "height": null,
      "justify_content": null,
      "justify_items": null,
      "left": null,
      "margin": null,
      "max_height": null,
      "max_width": null,
      "min_height": null,
      "min_width": null,
      "object_fit": null,
      "object_position": null,
      "order": null,
      "overflow": null,
      "overflow_x": null,
      "overflow_y": null,
      "padding": null,
      "right": null,
      "top": null,
      "visibility": null,
      "width": null
     }
    },
    "87e5a2a5fa334de7b59b673e225328b4": {
     "model_module": "@jupyter-widgets/base",
     "model_module_version": "1.2.0",
     "model_name": "LayoutModel",
     "state": {
      "_model_module": "@jupyter-widgets/base",
      "_model_module_version": "1.2.0",
      "_model_name": "LayoutModel",
      "_view_count": null,
      "_view_module": "@jupyter-widgets/base",
      "_view_module_version": "1.2.0",
      "_view_name": "LayoutView",
      "align_content": null,
      "align_items": null,
      "align_self": null,
      "border": null,
      "bottom": null,
      "display": null,
      "flex": null,
      "flex_flow": null,
      "grid_area": null,
      "grid_auto_columns": null,
      "grid_auto_flow": null,
      "grid_auto_rows": null,
      "grid_column": null,
      "grid_gap": null,
      "grid_row": null,
      "grid_template_areas": null,
      "grid_template_columns": null,
      "grid_template_rows": null,
      "height": null,
      "justify_content": null,
      "justify_items": null,
      "left": null,
      "margin": null,
      "max_height": null,
      "max_width": null,
      "min_height": null,
      "min_width": null,
      "object_fit": null,
      "object_position": null,
      "order": null,
      "overflow": null,
      "overflow_x": null,
      "overflow_y": null,
      "padding": null,
      "right": null,
      "top": null,
      "visibility": null,
      "width": null
     }
    },
    "9f7978124def41238b1109e6c43ebda3": {
     "model_module": "@jupyter-widgets/controls",
     "model_module_version": "1.5.0",
     "model_name": "HBoxModel",
     "state": {
      "_dom_classes": [],
      "_model_module": "@jupyter-widgets/controls",
      "_model_module_version": "1.5.0",
      "_model_name": "HBoxModel",
      "_view_count": null,
      "_view_module": "@jupyter-widgets/controls",
      "_view_module_version": "1.5.0",
      "_view_name": "HBoxView",
      "box_style": "",
      "children": [
       "IPY_MODEL_6084b9619d6b4f83a9fe13822679625d",
       "IPY_MODEL_700cdf510bef421ba83132f69e7d5ec5",
       "IPY_MODEL_4a15bfb107074d9aa7042241166c513f"
      ],
      "layout": "IPY_MODEL_5447cf06edf443dd823ec7fe3bbab620"
     }
    },
    "aea6dce311d9407da7165677f632d082": {
     "model_module": "@jupyter-widgets/controls",
     "model_module_version": "1.5.0",
     "model_name": "DescriptionStyleModel",
     "state": {
      "_model_module": "@jupyter-widgets/controls",
      "_model_module_version": "1.5.0",
      "_model_name": "DescriptionStyleModel",
      "_view_count": null,
      "_view_module": "@jupyter-widgets/base",
      "_view_module_version": "1.2.0",
      "_view_name": "StyleView",
      "description_width": ""
     }
    },
    "d8ae7ad3cad04bc8973d07f018769848": {
     "model_module": "@jupyter-widgets/base",
     "model_module_version": "1.2.0",
     "model_name": "LayoutModel",
     "state": {
      "_model_module": "@jupyter-widgets/base",
      "_model_module_version": "1.2.0",
      "_model_name": "LayoutModel",
      "_view_count": null,
      "_view_module": "@jupyter-widgets/base",
      "_view_module_version": "1.2.0",
      "_view_name": "LayoutView",
      "align_content": null,
      "align_items": null,
      "align_self": null,
      "border": null,
      "bottom": null,
      "display": null,
      "flex": null,
      "flex_flow": null,
      "grid_area": null,
      "grid_auto_columns": null,
      "grid_auto_flow": null,
      "grid_auto_rows": null,
      "grid_column": null,
      "grid_gap": null,
      "grid_row": null,
      "grid_template_areas": null,
      "grid_template_columns": null,
      "grid_template_rows": null,
      "height": null,
      "justify_content": null,
      "justify_items": null,
      "left": null,
      "margin": null,
      "max_height": null,
      "max_width": null,
      "min_height": null,
      "min_width": null,
      "object_fit": null,
      "object_position": null,
      "order": null,
      "overflow": null,
      "overflow_x": null,
      "overflow_y": null,
      "padding": null,
      "right": null,
      "top": null,
      "visibility": null,
      "width": null
     }
    }
   }
  }
 },
 "nbformat": 4,
 "nbformat_minor": 4
}
