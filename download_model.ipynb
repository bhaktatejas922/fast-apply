{
 "cells": [
  {
   "cell_type": "code",
   "execution_count": null,
   "id": "a8d918eb-439b-4b5e-8989-dc56d0f87527",
   "metadata": {
    "scrolled": true
   },
   "outputs": [],
   "source": [
    "%%capture\n",
    "!pip install unsloth\n",
    "!pip uninstall unsloth -y && pip install --upgrade --no-cache-dir \"unsloth[colab-new] @ git+https://github.com/unslothai/unsloth.git\""
   ]
  },
  {
   "cell_type": "code",
   "execution_count": null,
   "id": "c3d90c86-802f-4636-a3a6-892d1c30fbbd",
   "metadata": {},
   "outputs": [],
   "source": [
    "from transformers import AutoModelForCausalLM, AutoTokenizer\n",
    "# model_name= \"unsloth/Qwen2.5-Coder-7B-Instruct\"\n",
    "model_name= \"unsloth/Qwen2.5-Coder-7B-bnb-4bit\"\n",
    "# model_name= \"unsloth/Qwen2.5-Coder-1.5B\"\n",
    "# model_name= \"unsloth/Llama-3.2-1B\"\n",
    "# model_name= \"unsloth/Llama-3.2-3B\"\n",
    "# model_name= \"unsloth/Meta-Llama-3.1-70B-bnb-4bit\"\n",
    "# model_name= \"unsloth/Qwen2.5-Coder-1.5B-bnb-4bit\"\n",
    "model = AutoModelForCausalLM.from_pretrained(model_name)\n",
    "tokenizer = AutoTokenizer.from_pretrained(model_name)"
   ]
  },
  {
   "cell_type": "code",
   "execution_count": null,
   "id": "ac557281-b7d7-4bcf-8eaa-c032fa62790f",
   "metadata": {},
   "outputs": [],
   "source": [
    "model.save_pretrained(model_name)\n",
    "tokenizer.save_pretrained(model_name)"
   ]
  }
 ],
 "metadata": {
  "kernelspec": {
   "display_name": "Python 3 (ipykernel)",
   "language": "python",
   "name": "python3"
  },
  "language_info": {
   "codemirror_mode": {
    "name": "ipython",
    "version": 3
   },
   "file_extension": ".py",
   "mimetype": "text/x-python",
   "name": "python",
   "nbconvert_exporter": "python",
   "pygments_lexer": "ipython3",
   "version": "3.10.12"
  }
 },
 "nbformat": 4,
 "nbformat_minor": 5
}
