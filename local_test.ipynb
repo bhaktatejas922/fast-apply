{
 "cells": [
  {
   "cell_type": "code",
   "execution_count": 1,
   "metadata": {},
   "outputs": [
    {
     "name": "stdout",
     "output_type": "stream",
     "text": [
      "Defaulting to user installation because normal site-packages is not writeable\n",
      "Requirement already satisfied: transformers in /home/nightfury/.local/lib/python3.10/site-packages (4.45.1)\n",
      "Collecting transformers\n",
      "  Downloading transformers-4.45.2-py3-none-any.whl (9.9 MB)\n",
      "\u001b[2K     \u001b[90m━━━━━━━━━━━━━━━━━━━━━━━━━━━━━━━━━━━━━━━━\u001b[0m \u001b[32m9.9/9.9 MB\u001b[0m \u001b[31m28.8 MB/s\u001b[0m eta \u001b[36m0:00:00\u001b[0m00:01\u001b[0m00:01\u001b[0m\n",
      "\u001b[?25hRequirement already satisfied: packaging>=20.0 in /home/nightfury/.local/lib/python3.10/site-packages (from transformers) (24.1)\n",
      "Requirement already satisfied: pyyaml>=5.1 in /home/nightfury/.local/lib/python3.10/site-packages (from transformers) (6.0.2)\n",
      "Requirement already satisfied: safetensors>=0.4.1 in /home/nightfury/.local/lib/python3.10/site-packages (from transformers) (0.4.4)\n",
      "Requirement already satisfied: requests in /home/nightfury/.local/lib/python3.10/site-packages (from transformers) (2.32.3)\n",
      "Requirement already satisfied: huggingface-hub<1.0,>=0.23.2 in /home/nightfury/.local/lib/python3.10/site-packages (from transformers) (0.25.0)\n",
      "Requirement already satisfied: tqdm>=4.27 in /home/nightfury/.local/lib/python3.10/site-packages (from transformers) (4.66.5)\n",
      "Collecting tokenizers<0.21,>=0.20\n",
      "  Downloading tokenizers-0.20.1-cp310-cp310-manylinux_2_17_x86_64.manylinux2014_x86_64.whl (3.0 MB)\n",
      "\u001b[2K     \u001b[90m━━━━━━━━━━━━━━━━━━━━━━━━━━━━━━━━━━━━━━━━\u001b[0m \u001b[32m3.0/3.0 MB\u001b[0m \u001b[31m41.3 MB/s\u001b[0m eta \u001b[36m0:00:00\u001b[0m00:01\u001b[0m00:01\u001b[0m\n",
      "\u001b[?25hRequirement already satisfied: filelock in /home/nightfury/.local/lib/python3.10/site-packages (from transformers) (3.16.1)\n",
      "Requirement already satisfied: numpy>=1.17 in /home/nightfury/.local/lib/python3.10/site-packages (from transformers) (1.26.4)\n",
      "Requirement already satisfied: regex!=2019.12.17 in /home/nightfury/.local/lib/python3.10/site-packages (from transformers) (2024.9.11)\n",
      "Requirement already satisfied: typing-extensions>=3.7.4.3 in /home/nightfury/.local/lib/python3.10/site-packages (from huggingface-hub<1.0,>=0.23.2->transformers) (4.12.2)\n",
      "Requirement already satisfied: fsspec>=2023.5.0 in /home/nightfury/.local/lib/python3.10/site-packages (from huggingface-hub<1.0,>=0.23.2->transformers) (2024.9.0)\n",
      "Requirement already satisfied: idna<4,>=2.5 in /home/nightfury/.local/lib/python3.10/site-packages (from requests->transformers) (3.10)\n",
      "Requirement already satisfied: urllib3<3,>=1.21.1 in /home/nightfury/.local/lib/python3.10/site-packages (from requests->transformers) (2.2.3)\n",
      "Requirement already satisfied: certifi>=2017.4.17 in /home/nightfury/.local/lib/python3.10/site-packages (from requests->transformers) (2024.8.30)\n",
      "Requirement already satisfied: charset-normalizer<4,>=2 in /home/nightfury/.local/lib/python3.10/site-packages (from requests->transformers) (3.3.2)\n",
      "Installing collected packages: tokenizers, transformers\n",
      "  Attempting uninstall: tokenizers\n",
      "    Found existing installation: tokenizers 0.19.1\n",
      "    Uninstalling tokenizers-0.19.1:\n",
      "      Successfully uninstalled tokenizers-0.19.1\n",
      "  Attempting uninstall: transformers\n",
      "    Found existing installation: transformers 4.45.1\n",
      "    Uninstalling transformers-4.45.1:\n",
      "      Successfully uninstalled transformers-4.45.1\n",
      "\u001b[31mERROR: pip's dependency resolver does not currently take into account all the packages that are installed. This behaviour is the source of the following dependency conflicts.\n",
      "aider-chat 0.59.1 requires tokenizers==0.19.1, but you have tokenizers 0.20.1 which is incompatible.\u001b[0m\u001b[31m\n",
      "\u001b[0mSuccessfully installed tokenizers-0.20.1 transformers-4.45.2\n"
     ]
    }
   ],
   "source": [
    "%capture\n",
    "!pip install -U transformers\n",
    "!pip install -U bitsandbytes\n",
    "!pip install tf-keras"
   ]
  },
  {
   "cell_type": "code",
   "execution_count": 9,
   "metadata": {},
   "outputs": [
    {
     "name": "stdout",
     "output_type": "stream",
     "text": [
      "Defaulting to user installation because normal site-packages is not writeable\n",
      "Collecting unsloth[colab-new]@ git+https://github.com/unslothai/unsloth.git\n",
      "  Cloning https://github.com/unslothai/unsloth.git to /tmp/pip-install-n3pvcxv5/unsloth_d0c485942823493290cf7d8b388c5538\n",
      "  Running command git clone --filter=blob:none --quiet https://github.com/unslothai/unsloth.git /tmp/pip-install-n3pvcxv5/unsloth_d0c485942823493290cf7d8b388c5538\n",
      "  Resolved https://github.com/unslothai/unsloth.git to commit 3085f4c3daacc63939e78e3c87759d0d03c5a71f\n",
      "  Installing build dependencies ... \u001b[?25ldone\n",
      "\u001b[?25h  Getting requirements to build wheel ... \u001b[?25ldone\n",
      "\u001b[?25h  Installing backend dependencies ... \u001b[?25ldone\n",
      "\u001b[?25h  Preparing metadata (pyproject.toml) ... \u001b[?25ldone\n",
      "\u001b[?25h\u001b[33m  WARNING: Generating metadata for package unsloth produced metadata for project name unknown. Fix your #egg=unsloth fragments.\u001b[0m\u001b[33m\n",
      "\u001b[0mDiscarding \u001b[4;34mgit+https://github.com/unslothai/unsloth.git\u001b[0m: \u001b[33mRequested unknown from git+https://github.com/unslothai/unsloth.git has inconsistent name: filename has 'unsloth', but metadata has 'unknown'\u001b[0m\n",
      "\u001b[31mERROR: Could not find a version that satisfies the requirement unsloth (unavailable) (from versions: 2024.8, 2024.9, 2024.9.post1, 2024.9.post2, 2024.9.post3, 2024.9.post4, 2024.10.0, 2024.10.1, 2024.10.2)\u001b[0m\u001b[31m\n",
      "\u001b[0m\u001b[31mERROR: No matching distribution found for unsloth (unavailable)\u001b[0m\u001b[31m\n",
      "\u001b[0m"
     ]
    }
   ],
   "source": [
    "# ! pip install --upgrade --no-cache-dir \"unsloth[colab-new] @ git+https://github.com/unslothai/unsloth.git\""
   ]
  },
  {
   "cell_type": "code",
   "execution_count": 1,
   "metadata": {},
   "outputs": [
    {
     "name": "stdout",
     "output_type": "stream",
     "text": [
      "Defaulting to user installation because normal site-packages is not writeable\n",
      "Collecting unsloth\n",
      "  Using cached unsloth-2024.10.2-py3-none-any.whl (163 kB)\n",
      "Collecting transformers<4.45.0\n",
      "  Using cached transformers-4.44.2-py3-none-any.whl (9.5 MB)\n",
      "Collecting hf-transfer\n",
      "  Using cached hf_transfer-0.1.8-cp310-cp310-manylinux_2_17_x86_64.manylinux2014_x86_64.whl (3.6 MB)\n",
      "Collecting peft!=0.11.0,>=0.7.1\n",
      "  Using cached peft-0.13.2-py3-none-any.whl (320 kB)\n",
      "Collecting protobuf<4.0.0\n",
      "  Using cached protobuf-3.20.3-cp310-cp310-manylinux_2_12_x86_64.manylinux2010_x86_64.whl (1.1 MB)\n",
      "Collecting xformers>=0.0.27.post2\n",
      "  Using cached xformers-0.0.28.post1-cp310-cp310-manylinux_2_28_x86_64.whl (16.7 MB)\n",
      "Collecting trl!=0.9.0,!=0.9.1,!=0.9.2,!=0.9.3,<=0.11.1,>=0.7.9\n",
      "  Using cached trl-0.11.1-py3-none-any.whl (318 kB)\n",
      "Requirement already satisfied: datasets>=2.16.0 in /home/nightfury/.local/lib/python3.10/site-packages (from unsloth) (3.0.1)\n",
      "Requirement already satisfied: tqdm in /home/nightfury/.local/lib/python3.10/site-packages (from unsloth) (4.66.5)\n",
      "Collecting tyro\n",
      "  Using cached tyro-0.8.12-py3-none-any.whl (108 kB)\n",
      "Requirement already satisfied: psutil in /home/nightfury/.local/lib/python3.10/site-packages (from unsloth) (6.0.0)\n",
      "Collecting sentencepiece>=0.2.0\n",
      "  Using cached sentencepiece-0.2.0-cp310-cp310-manylinux_2_17_x86_64.manylinux2014_x86_64.whl (1.3 MB)\n",
      "Requirement already satisfied: triton>=3.0.0 in /home/nightfury/.local/lib/python3.10/site-packages (from unsloth) (3.0.0)\n",
      "Requirement already satisfied: huggingface-hub in /home/nightfury/.local/lib/python3.10/site-packages (from unsloth) (0.25.0)\n",
      "Collecting unsloth-zoo\n",
      "  Using cached unsloth_zoo-2024.10.2-py3-none-any.whl (39 kB)\n",
      "Requirement already satisfied: bitsandbytes in /home/nightfury/.local/lib/python3.10/site-packages (from unsloth) (0.44.1)\n",
      "Requirement already satisfied: packaging in /home/nightfury/.local/lib/python3.10/site-packages (from unsloth) (24.1)\n",
      "Requirement already satisfied: numpy in /home/nightfury/.local/lib/python3.10/site-packages (from unsloth) (1.26.4)\n",
      "Requirement already satisfied: torch>=2.4.0 in /home/nightfury/.local/lib/python3.10/site-packages (from unsloth) (2.4.0)\n",
      "Collecting wheel>=0.42.0\n",
      "  Using cached wheel-0.44.0-py3-none-any.whl (67 kB)\n",
      "Collecting accelerate>=0.34.1\n",
      "  Using cached accelerate-1.0.1-py3-none-any.whl (330 kB)\n",
      "Requirement already satisfied: safetensors>=0.4.3 in /home/nightfury/.local/lib/python3.10/site-packages (from accelerate>=0.34.1->unsloth) (0.4.4)\n",
      "Requirement already satisfied: pyyaml in /home/nightfury/.local/lib/python3.10/site-packages (from accelerate>=0.34.1->unsloth) (6.0.2)\n",
      "Requirement already satisfied: requests>=2.32.2 in /home/nightfury/.local/lib/python3.10/site-packages (from datasets>=2.16.0->unsloth) (2.32.3)\n",
      "Requirement already satisfied: aiohttp in /home/nightfury/.local/lib/python3.10/site-packages (from datasets>=2.16.0->unsloth) (3.10.5)\n",
      "Requirement already satisfied: pyarrow>=15.0.0 in /home/nightfury/.local/lib/python3.10/site-packages (from datasets>=2.16.0->unsloth) (16.1.0)\n",
      "Requirement already satisfied: dill<0.3.9,>=0.3.0 in /home/nightfury/.local/lib/python3.10/site-packages (from datasets>=2.16.0->unsloth) (0.3.8)\n",
      "Requirement already satisfied: pandas in /home/nightfury/.local/lib/python3.10/site-packages (from datasets>=2.16.0->unsloth) (2.2.2)\n",
      "Collecting fsspec[http]<=2024.6.1,>=2023.1.0\n",
      "  Using cached fsspec-2024.6.1-py3-none-any.whl (177 kB)\n",
      "Requirement already satisfied: filelock in /home/nightfury/.local/lib/python3.10/site-packages (from datasets>=2.16.0->unsloth) (3.16.1)\n",
      "Requirement already satisfied: multiprocess in /home/nightfury/.local/lib/python3.10/site-packages (from datasets>=2.16.0->unsloth) (0.70.16)\n",
      "Requirement already satisfied: xxhash in /home/nightfury/.local/lib/python3.10/site-packages (from datasets>=2.16.0->unsloth) (3.5.0)\n",
      "Requirement already satisfied: typing-extensions>=3.7.4.3 in /home/nightfury/.local/lib/python3.10/site-packages (from huggingface-hub->unsloth) (4.12.2)\n",
      "Requirement already satisfied: fsspec>=2023.5.0 in /home/nightfury/.local/lib/python3.10/site-packages (from huggingface-hub->unsloth) (2024.9.0)\n",
      "Requirement already satisfied: nvidia-cusolver-cu12==11.4.5.107 in /home/nightfury/.local/lib/python3.10/site-packages (from torch>=2.4.0->unsloth) (11.4.5.107)\n",
      "Requirement already satisfied: nvidia-cudnn-cu12==9.1.0.70 in /home/nightfury/.local/lib/python3.10/site-packages (from torch>=2.4.0->unsloth) (9.1.0.70)\n",
      "Requirement already satisfied: jinja2 in /home/nightfury/.local/lib/python3.10/site-packages (from torch>=2.4.0->unsloth) (3.1.4)\n",
      "Requirement already satisfied: nvidia-curand-cu12==10.3.2.106 in /home/nightfury/.local/lib/python3.10/site-packages (from torch>=2.4.0->unsloth) (10.3.2.106)\n",
      "Requirement already satisfied: nvidia-cuda-nvrtc-cu12==12.1.105 in /home/nightfury/.local/lib/python3.10/site-packages (from torch>=2.4.0->unsloth) (12.1.105)\n",
      "Requirement already satisfied: nvidia-cuda-cupti-cu12==12.1.105 in /home/nightfury/.local/lib/python3.10/site-packages (from torch>=2.4.0->unsloth) (12.1.105)\n",
      "Requirement already satisfied: nvidia-nvtx-cu12==12.1.105 in /home/nightfury/.local/lib/python3.10/site-packages (from torch>=2.4.0->unsloth) (12.1.105)\n",
      "Requirement already satisfied: sympy in /home/nightfury/.local/lib/python3.10/site-packages (from torch>=2.4.0->unsloth) (1.13.2)\n",
      "Requirement already satisfied: nvidia-cuda-runtime-cu12==12.1.105 in /home/nightfury/.local/lib/python3.10/site-packages (from torch>=2.4.0->unsloth) (12.1.105)\n",
      "Requirement already satisfied: nvidia-cublas-cu12==12.1.3.1 in /home/nightfury/.local/lib/python3.10/site-packages (from torch>=2.4.0->unsloth) (12.1.3.1)\n",
      "Requirement already satisfied: nvidia-cufft-cu12==11.0.2.54 in /home/nightfury/.local/lib/python3.10/site-packages (from torch>=2.4.0->unsloth) (11.0.2.54)\n",
      "Requirement already satisfied: nvidia-nccl-cu12==2.20.5 in /home/nightfury/.local/lib/python3.10/site-packages (from torch>=2.4.0->unsloth) (2.20.5)\n",
      "Requirement already satisfied: nvidia-cusparse-cu12==12.1.0.106 in /home/nightfury/.local/lib/python3.10/site-packages (from torch>=2.4.0->unsloth) (12.1.0.106)\n",
      "Requirement already satisfied: networkx in /home/nightfury/.local/lib/python3.10/site-packages (from torch>=2.4.0->unsloth) (3.2.1)\n",
      "Requirement already satisfied: nvidia-nvjitlink-cu12 in /home/nightfury/.local/lib/python3.10/site-packages (from nvidia-cusolver-cu12==11.4.5.107->torch>=2.4.0->unsloth) (12.6.20)\n",
      "Requirement already satisfied: regex!=2019.12.17 in /home/nightfury/.local/lib/python3.10/site-packages (from transformers<4.45.0->unsloth) (2024.9.11)\n",
      "Collecting tokenizers<0.20,>=0.19\n",
      "  Using cached tokenizers-0.19.1-cp310-cp310-manylinux_2_17_x86_64.manylinux2014_x86_64.whl (3.6 MB)\n",
      "Requirement already satisfied: docstring-parser>=0.16 in /home/nightfury/.local/lib/python3.10/site-packages (from tyro->unsloth) (0.16)\n",
      "Collecting shtab>=1.5.6\n",
      "  Using cached shtab-1.7.1-py3-none-any.whl (14 kB)\n",
      "Requirement already satisfied: rich>=11.1.0 in /home/nightfury/.local/lib/python3.10/site-packages (from tyro->unsloth) (13.8.1)\n",
      "Collecting torch>=2.4.0\n",
      "  Using cached torch-2.4.1-cp310-cp310-manylinux1_x86_64.whl (797.1 MB)\n",
      "Requirement already satisfied: multidict<7.0,>=4.5 in /home/nightfury/.local/lib/python3.10/site-packages (from aiohttp->datasets>=2.16.0->unsloth) (6.1.0)\n",
      "Requirement already satisfied: attrs>=17.3.0 in /home/nightfury/.local/lib/python3.10/site-packages (from aiohttp->datasets>=2.16.0->unsloth) (24.2.0)\n",
      "Requirement already satisfied: async-timeout<5.0,>=4.0 in /home/nightfury/.local/lib/python3.10/site-packages (from aiohttp->datasets>=2.16.0->unsloth) (4.0.3)\n",
      "Requirement already satisfied: yarl<2.0,>=1.0 in /home/nightfury/.local/lib/python3.10/site-packages (from aiohttp->datasets>=2.16.0->unsloth) (1.11.1)\n",
      "Requirement already satisfied: aiosignal>=1.1.2 in /home/nightfury/.local/lib/python3.10/site-packages (from aiohttp->datasets>=2.16.0->unsloth) (1.3.1)\n",
      "Requirement already satisfied: aiohappyeyeballs>=2.3.0 in /home/nightfury/.local/lib/python3.10/site-packages (from aiohttp->datasets>=2.16.0->unsloth) (2.4.0)\n",
      "Requirement already satisfied: frozenlist>=1.1.1 in /home/nightfury/.local/lib/python3.10/site-packages (from aiohttp->datasets>=2.16.0->unsloth) (1.4.1)\n",
      "Requirement already satisfied: certifi>=2017.4.17 in /home/nightfury/.local/lib/python3.10/site-packages (from requests>=2.32.2->datasets>=2.16.0->unsloth) (2024.8.30)\n",
      "Requirement already satisfied: charset-normalizer<4,>=2 in /home/nightfury/.local/lib/python3.10/site-packages (from requests>=2.32.2->datasets>=2.16.0->unsloth) (3.3.2)\n",
      "Requirement already satisfied: idna<4,>=2.5 in /home/nightfury/.local/lib/python3.10/site-packages (from requests>=2.32.2->datasets>=2.16.0->unsloth) (3.10)\n",
      "Requirement already satisfied: urllib3<3,>=1.21.1 in /home/nightfury/.local/lib/python3.10/site-packages (from requests>=2.32.2->datasets>=2.16.0->unsloth) (2.2.3)\n",
      "Requirement already satisfied: markdown-it-py>=2.2.0 in /home/nightfury/.local/lib/python3.10/site-packages (from rich>=11.1.0->tyro->unsloth) (3.0.0)\n",
      "Requirement already satisfied: pygments<3.0.0,>=2.13.0 in /home/nightfury/.local/lib/python3.10/site-packages (from rich>=11.1.0->tyro->unsloth) (2.18.0)\n",
      "Requirement already satisfied: MarkupSafe>=2.0 in /home/nightfury/.local/lib/python3.10/site-packages (from jinja2->torch>=2.4.0->unsloth) (2.1.5)\n",
      "Requirement already satisfied: pytz>=2020.1 in /home/nightfury/.local/lib/python3.10/site-packages (from pandas->datasets>=2.16.0->unsloth) (2024.1)\n",
      "Requirement already satisfied: tzdata>=2022.7 in /home/nightfury/.local/lib/python3.10/site-packages (from pandas->datasets>=2.16.0->unsloth) (2024.1)\n",
      "Requirement already satisfied: python-dateutil>=2.8.2 in /home/nightfury/.local/lib/python3.10/site-packages (from pandas->datasets>=2.16.0->unsloth) (2.8.2)\n",
      "Requirement already satisfied: mpmath<1.4,>=1.1.0 in /home/nightfury/.local/lib/python3.10/site-packages (from sympy->torch>=2.4.0->unsloth) (1.3.0)\n",
      "Requirement already satisfied: mdurl~=0.1 in /home/nightfury/.local/lib/python3.10/site-packages (from markdown-it-py>=2.2.0->rich>=11.1.0->tyro->unsloth) (0.1.2)\n",
      "Requirement already satisfied: six>=1.5 in /usr/lib/python3/dist-packages (from python-dateutil>=2.8.2->pandas->datasets>=2.16.0->unsloth) (1.16.0)\n",
      "Installing collected packages: sentencepiece, wheel, shtab, protobuf, hf-transfer, fsspec, tyro, torch, tokenizers, xformers, transformers, accelerate, peft, trl, unsloth-zoo, unsloth\n",
      "  Attempting uninstall: protobuf\n",
      "    Found existing installation: protobuf 4.25.3\n",
      "    Uninstalling protobuf-4.25.3:\n",
      "      Successfully uninstalled protobuf-4.25.3\n",
      "  Attempting uninstall: fsspec\n",
      "    Found existing installation: fsspec 2024.9.0\n",
      "    Uninstalling fsspec-2024.9.0:\n",
      "      Successfully uninstalled fsspec-2024.9.0\n",
      "  Attempting uninstall: torch\n",
      "    Found existing installation: torch 2.4.0\n",
      "    Uninstalling torch-2.4.0:\n",
      "      Successfully uninstalled torch-2.4.0\n",
      "  Attempting uninstall: tokenizers\n",
      "    Found existing installation: tokenizers 0.20.1\n",
      "    Uninstalling tokenizers-0.20.1:\n",
      "      Successfully uninstalled tokenizers-0.20.1\n",
      "  Attempting uninstall: transformers\n",
      "    Found existing installation: transformers 4.45.2\n",
      "    Uninstalling transformers-4.45.2:\n",
      "      Successfully uninstalled transformers-4.45.2\n",
      "  Attempting uninstall: accelerate\n",
      "    Found existing installation: accelerate 0.33.0\n",
      "    Uninstalling accelerate-0.33.0:\n",
      "      Successfully uninstalled accelerate-0.33.0\n",
      "\u001b[31mERROR: pip's dependency resolver does not currently take into account all the packages that are installed. This behaviour is the source of the following dependency conflicts.\n",
      "langserve 0.2.2 requires langchain-core<0.3,>=0.1, but you have langchain-core 0.3.9 which is incompatible.\n",
      "grpcio-status 1.62.2 requires protobuf>=4.21.6, but you have protobuf 3.20.3 which is incompatible.\n",
      "giskard 2.14.4 requires scipy<1.12.0,>=1.7.3, but you have scipy 1.13.1 which is incompatible.\n",
      "aider-chat 0.59.1 requires fsspec==2024.9.0, but you have fsspec 2024.6.1 which is incompatible.\u001b[0m\u001b[31m\n",
      "\u001b[0mSuccessfully installed accelerate-1.0.1 fsspec-2024.6.1 hf-transfer-0.1.8 peft-0.13.2 protobuf-3.20.3 sentencepiece-0.2.0 shtab-1.7.1 tokenizers-0.19.1 torch-2.4.1 transformers-4.44.2 trl-0.11.1 tyro-0.8.12 unsloth-2024.10.2 unsloth-zoo-2024.10.2 wheel-0.44.0 xformers-0.0.28.post1\n"
     ]
    }
   ],
   "source": [
    "!pip install unsloth\n",
    "# Also get the latest nightly Unsloth!\n",
    "# !pip uninstall unsloth -y && pip install --upgrade --no-cache-dir \"unsloth[colab-new] @ git+https://github.com/unslothai/unsloth.git\""
   ]
  },
  {
   "cell_type": "code",
   "execution_count": 6,
   "metadata": {},
   "outputs": [
    {
     "name": "stdout",
     "output_type": "stream",
     "text": [
      "==((====))==  Unsloth 2024.10.2: Fast Qwen2 patching. Transformers = 4.44.2.\n",
      "   \\\\   /|    GPU: NVIDIA GeForce GTX 1650 Ti. Max memory: 4.0 GB. Platform = Linux.\n",
      "O^O/ \\_/ \\    Pytorch: 2.4.1+cu121. CUDA = 7.5. CUDA Toolkit = 12.1.\n",
      "\\        /    Bfloat16 = FALSE. FA [Xformers = 0.0.28.post1. FA2 = False]\n",
      " \"-____-\"     Free Apache license: http://github.com/unslothai/unsloth\n"
     ]
    },
    {
     "data": {
      "application/vnd.jupyter.widget-view+json": {
       "model_id": "1a93ae48e2fd481fa67fb2ce3725b95b",
       "version_major": 2,
       "version_minor": 0
      },
      "text/plain": [
       "model.safetensors:   0%|          | 0.00/1.14G [00:00<?, ?B/s]"
      ]
     },
     "metadata": {},
     "output_type": "display_data"
    },
    {
     "data": {
      "application/vnd.jupyter.widget-view+json": {
       "model_id": "f2cb554ff88e417a93834427711c08cf",
       "version_major": 2,
       "version_minor": 0
      },
      "text/plain": [
       "generation_config.json:   0%|          | 0.00/242 [00:00<?, ?B/s]"
      ]
     },
     "metadata": {},
     "output_type": "display_data"
    },
    {
     "data": {
      "application/vnd.jupyter.widget-view+json": {
       "model_id": "ebfc3f6ea0484fcaa03ab0c08654ad55",
       "version_major": 2,
       "version_minor": 0
      },
      "text/plain": [
       "tokenizer_config.json:   0%|          | 0.00/7.51k [00:00<?, ?B/s]"
      ]
     },
     "metadata": {},
     "output_type": "display_data"
    },
    {
     "data": {
      "application/vnd.jupyter.widget-view+json": {
       "model_id": "e9694b01a5ea4f089ef3cdc417a0b840",
       "version_major": 2,
       "version_minor": 0
      },
      "text/plain": [
       "vocab.json:   0%|          | 0.00/2.78M [00:00<?, ?B/s]"
      ]
     },
     "metadata": {},
     "output_type": "display_data"
    },
    {
     "data": {
      "application/vnd.jupyter.widget-view+json": {
       "model_id": "3ffaa942f62e44cf8080b6c70f77bca6",
       "version_major": 2,
       "version_minor": 0
      },
      "text/plain": [
       "merges.txt:   0%|          | 0.00/1.67M [00:00<?, ?B/s]"
      ]
     },
     "metadata": {},
     "output_type": "display_data"
    },
    {
     "data": {
      "application/vnd.jupyter.widget-view+json": {
       "model_id": "f0241782372541cb93d00195c1e9cc0b",
       "version_major": 2,
       "version_minor": 0
      },
      "text/plain": [
       "added_tokens.json:   0%|          | 0.00/632 [00:00<?, ?B/s]"
      ]
     },
     "metadata": {},
     "output_type": "display_data"
    },
    {
     "data": {
      "application/vnd.jupyter.widget-view+json": {
       "model_id": "bd27349e58464def80c58f03c7f7fbc4",
       "version_major": 2,
       "version_minor": 0
      },
      "text/plain": [
       "special_tokens_map.json:   0%|          | 0.00/613 [00:00<?, ?B/s]"
      ]
     },
     "metadata": {},
     "output_type": "display_data"
    },
    {
     "data": {
      "application/vnd.jupyter.widget-view+json": {
       "model_id": "d921ffc7ff3345e5a3db9a96ad2e506d",
       "version_major": 2,
       "version_minor": 0
      },
      "text/plain": [
       "tokenizer.json:   0%|          | 0.00/7.03M [00:00<?, ?B/s]"
      ]
     },
     "metadata": {},
     "output_type": "display_data"
    },
    {
     "name": "stderr",
     "output_type": "stream",
     "text": [
      "Unsloth: We fixed a gradient accumulation bug, but it seems like you don't have the latest transformers version!\n",
      "Please update transformers via:\n",
      "`pip uninstall transformers -y && pip install --upgrade --no-cache-dir \"git+https://github.com/huggingface/transformers.git\"`\n"
     ]
    }
   ],
   "source": [
    "from unsloth import FastLanguageModel\n",
    "import torch\n",
    "max_seq_length = 2048 # Choose any! We auto support RoPE Scaling internally!\n",
    "dtype = None # None for auto detection. Float16 for Tesla T4, V100, Bfloat16 for Ampere+\n",
    "load_in_4bit = True \n",
    "\n",
    "# from transformers import AutoModelForCausalLM, AutoTokenizer\n",
    "\n",
    "\n",
    "model_name = \"unsloth/Qwen2.5-Coder-1.5B-Instruct-bnb-4bit\"\n",
    "\n",
    "# model = AutoModelForCausalLM.from_pretrained(\n",
    "#     model_name,\n",
    "#     # torch_dtype=\"auto\",\n",
    "#     # device_map=\"auto\",\n",
    "#     load_4_bit=True\n",
    "# )\n",
    "# tokenizer = AutoTokenizer.from_pretrained(model_name)\n",
    "\n",
    "\n",
    "model, tokenizer = FastLanguageModel.from_pretrained(\n",
    "    # Can select any from the below:\n",
    "    # \"unsloth/Qwen2.5-0.5B\", \"unsloth/Qwen2.5-1.5B\", \"unsloth/Qwen2.5-3B\"\n",
    "    # \"unsloth/Qwen2.5-14B\",  \"unsloth/Qwen2.5-32B\",  \"unsloth/Qwen2.5-72B\",\n",
    "    # And also all Instruct versions and Math. Coding verisons!\n",
    "    model_name = model_name,\n",
    "    max_seq_length = max_seq_length,\n",
    "    dtype = dtype,\n",
    "    load_in_4bit = load_in_4bit,\n",
    "    # token = \"hf_...\", # use one if using gated models like meta-llama/Llama-2-7b-hf\n",
    ")\n"
   ]
  },
  {
   "cell_type": "code",
   "execution_count": 13,
   "metadata": {},
   "outputs": [],
   "source": [
    "my_template = \\\n",
    "\"\"\"{{ \\'<|im_start|>system\\\\n\\' }}\n",
    "{%- if messages[0][\\'role\\'] == \\'system\\' %}\n",
    "    {{ messages[0][\\'content\\'] }}\n",
    "{%- else %}\n",
    "    {{ '''You are an assistant that helps merge code updates. Merge all changes from the <update> snippet into the <code> below, ensuring every modification is fully integrated.\n",
    "- Preserve the code's structure, order, comments, and indentation exactly.\n",
    "- Output only the updated code, enclosed within <updated-code> and </updated-code> tags.\n",
    "- Do not include any additional text, explanations, placeholders, ellipses, or code fences.''' }}\n",
    "{%- endif %}\n",
    "<|im_end|>\n",
    "{%- for message in messages %}\n",
    "    {%- if message.role in [\\'user\\', \\'assistant\\'] or (message.role == \\'system\\' and not loop.first) %}\n",
    "        {{ \\'<|im_start|>\\' + message.role + \\'\\\\n\\' + message.content + \\'<|im_end|>\\\\n\\' }}\n",
    "    {%- endif %}\n",
    "{%- endfor %}\n",
    "{%- if add_generation_prompt %}\n",
    "    {{ \\'<|im_start|>assistant\\\\n\\' }}\n",
    "{%- endif %}\n",
    "\"\"\"\n"
   ]
  },
  {
   "cell_type": "code",
   "execution_count": 26,
   "metadata": {},
   "outputs": [],
   "source": [
    "        # {{- \\'You are Qwen, created by Alibaba Cloud. You are a helpful assistant.\\' }}\n",
    "        # {{- \\'<|im_start|>system\\\\nYou are Qwen, created by Alibaba Cloud. You are a helpful assistant.<|im_end|>\\\\n\\' }}\n",
    "my_template = \"\"\"{%- if tools %}\n",
    "    {{- \\'<|im_start|>system\\\\n\\' }}\n",
    "    {%- if messages[0][\\'role\\'] == \\'system\\' %}\n",
    "        {{- messages[0][\\'content\\'] }}\n",
    "    {%- else %}\n",
    "        {{- \"You are an assistant that helps merge code updates. Merge all changes from the <update> snippet into the <code> below, ensuring every modification is fully integrated.\n",
    "- Preserve the code's structure, order, comments, and indentation exactly.\n",
    "- Output only the updated code, enclosed within <updated-code> and </updated-code> tags.\n",
    "- Do not include any additional text, explanations, placeholders, ellipses, or code fences.\" }}\n",
    "    {%- endif %}\n",
    "    {{- \"\\\\n\\\\n# Tools\\\\n\\\\nYou may call one or more functions to assist with the user query.\\\\n\\\\nYou are provided with function signatures within <tools></tools> XML tags:\\\\n<tools>\" }}\n",
    "    {%- for tool in tools %}\n",
    "        {{- \"\\\\n\" }}\n",
    "        {{- tool | tojson }}\n",
    "    {%- endfor %}\n",
    "    {{- \"\\\\n</tools>\\\\n\\\\nFor each function call, return a json object with function name and arguments within <tool_call></tool_call> XML tags:\\\\n<tool_call>\\\\n{\\\\\"name\\\\\": <function-name>, \\\\\"arguments\\\\\": <args-json-object>}\\\\n</tool_call><|im_end|>\\\\n\" }}\\n{%- else %}\n",
    "    {%- if messages[0][\\'role\\'] == \\'system\\' %}\n",
    "        {{- \\'<|im_start|>system\\\\n\\' + messages[0][\\'content\\'] + \\'<|im_end|>\\\\n\\' }}\n",
    "    {%- else %}\n",
    "        {{- \"<|im_start|>system\\\\nYou are an coding assistant that helps merge code updates. Merge all changes from the <update> snippet into the <code> below, ensuring every modification is fully integrated.\n",
    "- Preserve the code's structure, order, comments, and indentation exactly.\n",
    "- Output only the updated code, enclosed within <updated-code> and </updated-code> tags.\n",
    "- Do not include any additional text, explanations, placeholders, ellipses, or code fences.<|im_end|>\\\\n\" }}\n",
    "    {%- endif %}\\n{%- endif %}\\n{%- for message in messages %}\n",
    "    {%- if (message.role == \"user\") or (message.role == \"system\" and not loop.first) or (message.role == \"assistant\" and not message.tool_calls) %}\n",
    "        {{- \\'<|im_start|>\\' + message.role + \\'\\\\n\\' + message.content + \\'<|im_end|>\\' + \\'\\\\n\\' }}\n",
    "    {%- elif message.role == \"assistant\" %}\n",
    "        {{- \\'<|im_start|>\\' + message.role }}\n",
    "        {%- if message.content %}\n",
    "            {{- \\'\\\\n\\' + message.content }}\n",
    "        {%- endif %}\n",
    "        {%- for tool_call in message.tool_calls %}\n",
    "            {%- if tool_call.function is defined %}\n",
    "                {%- set tool_call = tool_call.function %}\n",
    "            {%- endif %}\n",
    "            {{- \\'\\\\n<tool_call>\\\\n{\"name\": \"\\' }}\n",
    "            {{- tool_call.name }}\n",
    "            {{- \\'\", \"arguments\": \\' }}\n",
    "            {{- tool_call.arguments | tojson }}\n",
    "            {{- \\'}\\\\n</tool_call>\\' }}\n",
    "        {%- endfor %}\n",
    "        {{- \\'<|im_end|>\\\\n\\' }}\n",
    "    {%- elif message.role == \"tool\" %}\n",
    "        {%- if (loop.index0 == 0) or (messages[loop.index0 - 1].role != \"tool\") %}            {{- \\'<|im_start|>user\\' }}\n",
    "        {%- endif %}\n",
    "        {{- \\'\\\\n<tool_response>\\\\n\\' }}\n",
    "        {{- message.content }}\n",
    "        {{- \\'\\\\n</tool_response>\\' }}\n",
    "        {%- if loop.last or (messages[loop.index0 + 1].role != \"tool\") %}\n",
    "            {{- \\'<|im_end|>\\\\n\\' }}\n",
    "        {%- endif %}\n",
    "    {%- endif %}\\n{%- endfor %}\\n{%- if add_generation_prompt %}\n",
    "    {{- \\'<|im_start|>assistant\\\\n\\' }}\n",
    "{%- endif %}\n",
    "\"\"\""
   ]
  },
  {
   "cell_type": "code",
   "execution_count": 29,
   "metadata": {},
   "outputs": [
    {
     "name": "stdout",
     "output_type": "stream",
     "text": [
      "<|im_start|>system\n",
      "You are an assistant that helps merge code updates. Merge all changes from the <update> snippet into the <code> below, ensuring every modification is fully integrated.\n",
      "- Preserve the code's structure, order, comments, and indentation exactly.\n",
      "- Output only the updated code, enclosed within <updated-code> and </updated-code> tags.\n",
      "- Do not include any additional text, explanations, placeholders, ellipses, or code fences.<|im_end|>\n",
      "<|im_start|>user\n",
      "write a quick sort algorithm.<|im_end|>\n",
      "<|im_start|>assistant\n",
      "\n"
     ]
    }
   ],
   "source": [
    "prompt = \"write a quick sort algorithm.\"\n",
    "messages = [\n",
    "    # {\"role\": \"system\", \"content\": \"You are Qwen, created by Alibaba Cloud. You are a helpful assistant.\"},\n",
    "    {\"role\": \"user\", \"content\": prompt}\n",
    "]\n",
    "text = tokenizer.apply_chat_template(\n",
    "    messages,\n",
    "    tokenize=False,\n",
    "    add_generation_prompt=True,\n",
    "    chat_template=my_template,\n",
    ")\n",
    "print(text)"
   ]
  },
  {
   "cell_type": "code",
   "execution_count": 11,
   "metadata": {},
   "outputs": [],
   "source": [
    "FastLanguageModel.for_inference(model)\n",
    "model_inputs = tokenizer([text], return_tensors=\"pt\").to(model.device)\n",
    "\n",
    "generated_ids = model.generate(\n",
    "    **model_inputs,\n",
    "    max_new_tokens=512\n",
    ")\n",
    "generated_ids = [\n",
    "    output_ids[len(input_ids):] for input_ids, output_ids in zip(model_inputs.input_ids, generated_ids)\n",
    "]\n",
    "\n",
    "response = tokenizer.batch_decode(generated_ids, skip_special_tokens=True)[0]"
   ]
  },
  {
   "cell_type": "code",
   "execution_count": 12,
   "metadata": {},
   "outputs": [
    {
     "data": {
      "text/plain": [
       "'Sure! Below is the implementation of the Quick Sort algorithm in Python:\\n\\n```python\\ndef quick_sort(arr):\\n    if len(arr) <= 1:\\n        return arr\\n    pivot = arr[len(arr) // 2]\\n    left = [x for x in arr if x < pivot]\\n    middle = [x for x in arr if x == pivot]\\n    right = [x for x in arr if x > pivot]\\n    return quick_sort(left) + middle + quick_sort(right)\\n\\n# Example usage:\\narr = [3, 6, 8, 10, 1, 2, 1]\\nsorted_arr = quick_sort(arr)\\nprint(sorted_arr)\\n```\\n\\n### Explanation:\\n1. **Base Case**: If the array has 0 or 1 element, it is already sorted, so we return it.\\n2. **Choose Pivot**: Select a pivot element from the array. In this example, we choose the middle element.\\n3. **Partitioning**:\\n   - Elements less than the pivot go into the `left` list.\\n   - Elements equal to the pivot go into the `middle` list.\\n   - Elements greater than the pivot go into the `right` list.\\n4. **Recursive Sorting**: Recursively apply the Quick Sort algorithm to the `left` and `right` lists.\\n\\nThis implementation ensures that the array is divided into two parts: one part with elements less than the pivot and the other part with elements greater than the pivot. The process continues until the entire array is sorted.'"
      ]
     },
     "execution_count": 12,
     "metadata": {},
     "output_type": "execute_result"
    }
   ],
   "source": [
    "# response"
   ]
  }
 ],
 "metadata": {
  "kernelspec": {
   "display_name": "Python 3",
   "language": "python",
   "name": "python3"
  },
  "language_info": {
   "codemirror_mode": {
    "name": "ipython",
    "version": 3
   },
   "file_extension": ".py",
   "mimetype": "text/x-python",
   "name": "python",
   "nbconvert_exporter": "python",
   "pygments_lexer": "ipython3",
   "version": "3.10.12"
  }
 },
 "nbformat": 4,
 "nbformat_minor": 2
}
